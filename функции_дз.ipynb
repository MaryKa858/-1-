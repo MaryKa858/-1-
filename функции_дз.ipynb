{
 "cells": [
  {
   "cell_type": "markdown",
   "id": "5a7d23bc",
   "metadata": {
    "id": "5a7d23bc"
   },
   "source": [
    "# Задача"
   ]
  },
  {
   "cell_type": "markdown",
   "id": "37d91ebd",
   "metadata": {
    "id": "37d91ebd"
   },
   "source": [
    "Напишите функцию, которая будет находить корни квадратного уравнения вида `a * x^2 + b * x + c = 0` и печатать результаты.\n",
    "\n",
    "- функция должна называться `solve` и иметь входные параметры `a, b, c`;\n",
    "- для вычисления дискриминанта, она должна вызывать другую функцию `discriminant`;\n",
    "\n",
    "Заготовки для функций и описание логики их работы приведены ниже."
   ]
  },
  {
   "cell_type": "code",
   "execution_count": 96,
   "id": "6ed2c24a",
   "metadata": {
    "id": "6ed2c24a"
   },
   "outputs": [],
   "source": [
    "from math import sqrt # требуется для вычисления квадратного корня. Импорт модулей, используемый здесь, будет разобран далее в курсе"
   ]
  },
  {
   "cell_type": "code",
   "execution_count": 97,
   "id": "21eb289f",
   "metadata": {
    "id": "21eb289f"
   },
   "outputs": [],
   "source": [
    "def discriminant(a, b, c):\n",
    "    \"\"\"Функция для вычисления дискриминанта\"\"\"\n",
    "    return b**2 - 4 * a * c\n",
    "    # возвращать значение, посчитанное по формуле b**2 - 4 * a * c"
   ]
  },
  {
   "cell_type": "code",
   "execution_count": 98,
   "id": "69629c98",
   "metadata": {
    "id": "69629c98"
   },
   "outputs": [],
   "source": [
    "def solve(a, b, c):\n",
    "    \"\"\"Функция, которая вычисляет корни квадратного уравнения\"\"\"\n",
    "    d = discriminant(a, b, c)\n",
    "    if d < 0:\n",
    "        print('Нет корней')\n",
    "    elif d == 0:\n",
    "        x = -b / 2 / a\n",
    "        print(f'Один корень, х = {x}')\n",
    "    else:\n",
    "        x1 = (-b + sqrt(d)) / 2 / a\n",
    "        x2 = (-b - sqrt(d)) / 2 / a\n",
    "        print(f'Два корня, х1 = {x1}, x2 = {x2}')\n",
    "    # 1. Вычислить дискриминант с использованием функции discriminant и сохранить результат в переменную d\n",
    "    # 2. Если d < 0, печатать сообщение \"Корней нет\"\n",
    "    # 3. Если d == 0, печатать сообщение \"Один корень, x = <значение>\"\n",
    "    #    Формула, по которой считается корень в этом случае: x = - b / 2 / a\n",
    "    # 4. Если d > 0, печатать сообщение \"Два корня, x1 = <первое значение>, x2 = <второе значение>\"\n",
    "    #    Формулы, по которым считаются корни:\n",
    "    #        x1 = (-b + sqrt(d)) / 2 / a\n",
    "    #        x2 = (-b - sqrt(d)) / 2 / a\n",
    "\n",
    "    # Для печати результатов рекомендуется использовать f-строки"
   ]
  },
  {
   "cell_type": "markdown",
   "id": "74e3338b",
   "metadata": {
    "id": "74e3338b"
   },
   "source": [
    "Протестируйте Вашу функцию на трех примерах:"
   ]
  },
  {
   "cell_type": "code",
   "execution_count": 99,
   "id": "e4eb7fb5",
   "metadata": {
    "colab": {
     "base_uri": "https://localhost:8080/",
     "height": 141
    },
    "executionInfo": {
     "elapsed": 142,
     "status": "error",
     "timestamp": 1747825507295,
     "user": {
      "displayName": "productstar homework",
      "userId": "17463514396133947951"
     },
     "user_tz": -180
    },
    "id": "e4eb7fb5",
    "outputId": "001ad08a-5349-4040-a088-218201cda685"
   },
   "outputs": [
    {
     "name": "stdout",
     "output_type": "stream",
     "text": [
      "Один корень, х = -1.0\n"
     ]
    }
   ],
   "source": [
    "solve(1, 2, 1)"
   ]
  },
  {
   "cell_type": "code",
   "execution_count": 100,
   "id": "1f029ac1",
   "metadata": {
    "id": "1f029ac1"
   },
   "outputs": [
    {
     "name": "stdout",
     "output_type": "stream",
     "text": [
      "Два корня, х1 = -1.0, x2 = -1.5\n"
     ]
    }
   ],
   "source": [
    "solve(2, 5, 3)"
   ]
  },
  {
   "cell_type": "code",
   "execution_count": 101,
   "id": "40ccf1ca",
   "metadata": {
    "id": "40ccf1ca"
   },
   "outputs": [
    {
     "name": "stdout",
     "output_type": "stream",
     "text": [
      "Нет корней\n"
     ]
    }
   ],
   "source": [
    "solve(1, -1, 3)"
   ]
  },
  {
   "cell_type": "code",
   "execution_count": 102,
   "id": "0f115a22-a1f0-4955-9ed0-47576b3d3786",
   "metadata": {},
   "outputs": [
    {
     "name": "stdout",
     "output_type": "stream",
     "text": [
      "Два корня, х1 = -2.0, x2 = -0.0\n"
     ]
    }
   ],
   "source": [
    "solve(-1, -2, 0)"
   ]
  },
  {
   "cell_type": "code",
   "execution_count": 103,
   "id": "540651a5-a9f8-4451-8491-679d70a75a29",
   "metadata": {},
   "outputs": [
    {
     "name": "stdout",
     "output_type": "stream",
     "text": [
      "Два корня, х1 = 4.918677324489565, x2 = 0.08132267551043526\n"
     ]
    }
   ],
   "source": [
    "solve(10, -50, 4)"
   ]
  },
  {
   "cell_type": "code",
   "execution_count": null,
   "id": "b1f2a3ed-40fc-4709-b392-dd5609f10eb5",
   "metadata": {},
   "outputs": [],
   "source": []
  }
 ],
 "metadata": {
  "colab": {
   "provenance": []
  },
  "kernelspec": {
   "display_name": "Python 3 (ipykernel)",
   "language": "python",
   "name": "python3"
  },
  "language_info": {
   "codemirror_mode": {
    "name": "ipython",
    "version": 3
   },
   "file_extension": ".py",
   "mimetype": "text/x-python",
   "name": "python",
   "nbconvert_exporter": "python",
   "pygments_lexer": "ipython3",
   "version": "3.13.3"
  }
 },
 "nbformat": 4,
 "nbformat_minor": 5
}
