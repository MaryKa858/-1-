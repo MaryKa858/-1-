{
 "cells": [
  {
   "cell_type": "code",
   "execution_count": 5,
   "id": "dd2fad60-78a7-4e0e-9fa9-55b93cb406b6",
   "metadata": {},
   "outputs": [
    {
     "name": "stdin",
     "output_type": "stream",
     "text": [
      "Какая версия языка сейчас актуальна?: \n"
     ]
    },
    {
     "name": "stdout",
     "output_type": "stream",
     "text": [
      "Неверный ответ\n"
     ]
    },
    {
     "name": "stdin",
     "output_type": "stream",
     "text": [
      "Сколько значений есть у bool?: \n"
     ]
    },
    {
     "name": "stdout",
     "output_type": "stream",
     "text": [
      "Неверный ответ\n"
     ]
    },
    {
     "name": "stdin",
     "output_type": "stream",
     "text": [
      "Какая кодировка используется в строках?: \n"
     ]
    },
    {
     "name": "stdout",
     "output_type": "stream",
     "text": [
      "Неверный ответ\n"
     ]
    },
    {
     "name": "stdin",
     "output_type": "stream",
     "text": [
      "Как называется таблица символов?: \n"
     ]
    },
    {
     "name": "stdout",
     "output_type": "stream",
     "text": [
      "Неверный ответ\n"
     ]
    },
    {
     "name": "stdin",
     "output_type": "stream",
     "text": [
      "Сколько ключевых слов могут содержать условия в Python?: \n"
     ]
    },
    {
     "name": "stdout",
     "output_type": "stream",
     "text": [
      "Неверный ответ\n"
     ]
    },
    {
     "name": "stdin",
     "output_type": "stream",
     "text": [
      "Сколько видов циклов бывает в Python?: \n"
     ]
    },
    {
     "name": "stdout",
     "output_type": "stream",
     "text": [
      "Неверный ответ\n"
     ]
    },
    {
     "name": "stdin",
     "output_type": "stream",
     "text": [
      "Сколько видов кодировок рассматривается в уроке?: \n"
     ]
    },
    {
     "name": "stdout",
     "output_type": "stream",
     "text": [
      "Неверный ответ\n"
     ]
    },
    {
     "name": "stdin",
     "output_type": "stream",
     "text": [
      "Где советуют брать информацию по Python?(одно слово): \n"
     ]
    },
    {
     "name": "stdout",
     "output_type": "stream",
     "text": [
      "Неверный ответ\n"
     ]
    },
    {
     "name": "stdin",
     "output_type": "stream",
     "text": [
      "Как называется соединение двух строк в единую строку?: \n"
     ]
    },
    {
     "name": "stdout",
     "output_type": "stream",
     "text": [
      "Неверный ответ\n"
     ]
    },
    {
     "name": "stdin",
     "output_type": "stream",
     "text": [
      "Как называется закреплённая стандартом упорядоченная последовательность знаков какой-либо системы письма?: \n"
     ]
    },
    {
     "name": "stdout",
     "output_type": "stream",
     "text": [
      "Неверный ответ\n",
      "Поздравляем, вы ответили на 10 вопросов!\n"
     ]
    }
   ],
   "source": [
    "while True:\n",
    "    answer1 = str(input('Какая версия языка сейчас актуальна?:'))\n",
    "    if (answer1 == 'Python3' or answer1 =='PYTHON3' or answer1 == '3'):\n",
    "        print(f'Ответ {answer1} верен')\n",
    "    else:\n",
    "        print('Неверный ответ')\n",
    "        \n",
    "    answer2 = str(input('Сколько значений есть у bool?:'))\n",
    "    if (answer2 == '2' or answer2 == 'два' or answer2 == 'Два' or answer2 == 'ДВА'):\n",
    "        print(f'Ответ {answer2} верен')\n",
    "    else:\n",
    "        print('Неверный ответ')\n",
    "        \n",
    "    answer3 = str(input('Какая кодировка используется в строках?:'))\n",
    "    if (answer3 == 'utf8' or answer3 == 'UTF8'):\n",
    "        print(f'Ответ {answer3} верен')\n",
    "    else:\n",
    "        print('Неверный ответ')\n",
    "        \n",
    "    answer4 = input('Как называется таблица символов?:')\n",
    "    if (answer4 == 'Unicode' or answer4 == 'UNICODE' or answer4 == 'unicode'):\n",
    "        print(f'Ответ {answer4} верен')\n",
    "    else:\n",
    "         print('Неверный ответ')\n",
    "\n",
    "    answer5 = str(input('Сколько ключевых слов могут содержать условия в Python?:'))\n",
    "    if (answer5 == '3' or answer5 == 'три' or answer5 == 'Три' or answer5 == 'ТРИ'):\n",
    "        print(f'Ответ {answer5} верен')\n",
    "    else:\n",
    "        print('Неверный ответ')\n",
    "        \n",
    "    answer6 = str(input('Сколько видов циклов бывает в Python?:'))\n",
    "    if (answer6 == '2' or answer6 == 'два' or answer6 == 'Два' or answer6 == 'ДВА'):\n",
    "        print(f'Ответ {answer6} верен')\n",
    "    else:\n",
    "        print('Неверный ответ')\n",
    "        \n",
    "    answer7 = str(input('Сколько видов кодировок рассматривается в уроке?:'))\n",
    "    if (answer7 == '3' or answer7 == 'три' or answer7 == 'Три' or answer7 == 'ТРИ'):\n",
    "        print(f'Ответ {answer7} верен')\n",
    "    else:\n",
    "        print('Неверный ответ')\n",
    "        \n",
    "    answer8 = input('Где советуют брать информацию по Python?(одно слово):')\n",
    "    if (answer8 == 'Документация' or answer8 == 'документация' or answer8 == 'ДОКУМЕНТАЦИЯ'):\n",
    "        print(f'Ответ {answer8} верен')\n",
    "    else:\n",
    "        print('Неверный ответ')\n",
    "\n",
    "    answer9 = input('Как называется соединение двух строк в единую строку?:')    \n",
    "    if (answer9 == 'Конкатенация' or answer9 =='КОНКАТЕНАЦИЯ' or answer9 == 'конкатенация'):\n",
    "        print(f'Ответ {answer9} верен')\n",
    "    else:\n",
    "        print('Неверный ответ')\n",
    "\n",
    "    answer10 = input('Как называется закреплённая стандартом упорядоченная последовательность знаков какой-либо системы письма?:')\n",
    "    if(answer10 == 'Кодировка' or answer10 == 'кодировка' or answer10 == 'КОДИРОВКА'):\n",
    "        print(f'Ответ {answer10} верен')\n",
    "    else:\n",
    "        print('Неверный ответ')\n",
    "    print('Поздравляем, вы ответили на 10 вопросов!')\n",
    "    break"
   ]
  },
  {
   "cell_type": "markdown",
   "id": "2036b1e8-9bda-462d-955e-a1bd288bf343",
   "metadata": {},
   "source": [
    "### "
   ]
  },
  {
   "cell_type": "code",
   "execution_count": null,
   "id": "7b428085-271f-4383-b760-6e129591f11b",
   "metadata": {},
   "outputs": [],
   "source": [
    "\n"
   ]
  }
 ],
 "metadata": {
  "kernelspec": {
   "display_name": "Python 3 (ipykernel)",
   "language": "python",
   "name": "python3"
  },
  "language_info": {
   "codemirror_mode": {
    "name": "ipython",
    "version": 3
   },
   "file_extension": ".py",
   "mimetype": "text/x-python",
   "name": "python",
   "nbconvert_exporter": "python",
   "pygments_lexer": "ipython3",
   "version": "3.13.3"
  }
 },
 "nbformat": 4,
 "nbformat_minor": 5
}
