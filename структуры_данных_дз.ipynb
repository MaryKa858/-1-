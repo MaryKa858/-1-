{
 "cells": [
  {
   "cell_type": "markdown",
   "id": "9658011a",
   "metadata": {
    "id": "9658011a"
   },
   "source": [
    "# Задача №1\n",
    "\n",
    "Напишите функцию `find_sum_elements()`, которая принимает на вход массив nums и число target и возвращает массив, содержащий индексы двух элементов nums, сумма которых равна target.\n",
    "\n",
    "Примеры:\n",
    "- `find_sum_elements([2,7,11,15], 9) = [2, 7]`\n",
    "- `find_sum_elements([3, 2, 4], 6) = [2, 4]`\n",
    "\n",
    "Важные детали\n",
    "- Гарантируется, что такие два числа всегда в nums существуют.\n",
    "- Порядок элементов в ответе не важен.\n",
    "\n",
    "Попробуйте придумать, при помощи какой структуры данных можно решить эту задачу за один проход по массиву?"
   ]
  },
  {
   "cell_type": "code",
   "execution_count": 28,
   "id": "b165abc5",
   "metadata": {
    "id": "b165abc5"
   },
   "outputs": [],
   "source": [
    " # введите своё решение в этом поле\n",
    "def find_sum_elements(nums, target):\n",
    "    num_map = {}  # Словарь для хранения чисел и их индексов\n",
    "\n",
    "    for index, num in enumerate(nums):  #Функция enumerate() в Python позволяет перебирать элементы \n",
    "#итерируемого объекта (списка, кортежа, строки и т. д.) вместе с их индексами.\n",
    "        complement = target - num\n",
    "        if complement in num_map:\n",
    "            return [num_map[complement], index]  # Нашли пару\n",
    "        num_map[num] = index  # Сохраняем число и его индекс"
   ]
  },
  {
   "cell_type": "markdown",
   "id": "7fb5e31f",
   "metadata": {
    "id": "7fb5e31f"
   },
   "source": [
    "## Проверьте себя\n",
    "\n",
    "Ячейка ниже содержит тесты, при помощи которых можно проверить корретность решения. Просто выполните ячейку и она распечатает результат."
   ]
  },
  {
   "cell_type": "code",
   "execution_count": 29,
   "id": "4bfc9a4f",
   "metadata": {
    "colab": {
     "base_uri": "https://localhost:8080/"
    },
    "executionInfo": {
     "elapsed": 6,
     "status": "ok",
     "timestamp": 1745909352776,
     "user": {
      "displayName": "productstar homework",
      "userId": "17463514396133947951"
     },
     "user_tz": -180
    },
    "id": "4bfc9a4f",
    "outputId": "1e909fee-6462-4d66-e798-94e477a3da77"
   },
   "outputs": [
    {
     "name": "stdout",
     "output_type": "stream",
     "text": [
      "\n",
      "Количество правильно решённых тестов: 5 из 5\n",
      "Отличный результат!\n"
     ]
    }
   ],
   "source": [
    "def test_task_1():\n",
    "    tests = (\n",
    "        ([2, 11, 15, 7], 9),\n",
    "        ([3, 2, 4], 6),\n",
    "        ([0, 0, 1], 0),\n",
    "        ([3, 2, 1], 4),\n",
    "        ([1, 3, 6, 7, 9], 10),\n",
    "    )\n",
    "    num_correct = 0\n",
    "    for nums, target in tests:\n",
    "        result = find_sum_elements(nums, target)\n",
    "        if not isinstance(result, list):\n",
    "            print(f'find_sum_elements() должна возвращать массив, а не {type(result)} (nums={nums}, target={target})')\n",
    "            continue\n",
    "        if len(result) != 2:\n",
    "            print(f'find_sum_elements() должна возвращать массив из двух элементов (nums={nums}, target={target})')\n",
    "            continue\n",
    "        if result[0] == result[1]:\n",
    "            print(f'find_sum_elements() вернула два одинаковых индекса')\n",
    "            continue\n",
    "        if result[0] >= len(nums) or result[1] >= len(nums):\n",
    "            print(f'Один из индексов выходит за границы nums')\n",
    "            continue\n",
    "        if nums[result[0]] + nums[result[1]] != target:\n",
    "            print(f'Сумма элементов nums={nums} с индексами {result[0]} и {result[1]} не равна {target}')\n",
    "            continue\n",
    "        num_correct += 1\n",
    "    print()\n",
    "    print(f'Количество правильно решённых тестов: {num_correct} из {len(tests)}')\n",
    "    if num_correct == len(tests):\n",
    "        print('Отличный результат!')\n",
    "\n",
    "test_task_1()\n"
   ]
  },
  {
   "cell_type": "markdown",
   "id": "ed1fd8a9",
   "metadata": {
    "id": "ed1fd8a9"
   },
   "source": [
    "# Задача №2\n",
    "\n",
    "Панграмма – это фраза, содержащая все буквы алфавита, например «Съешь же ещё этих мягких французских булок да выпей чаю».\n",
    "\n",
    "Напишите функцию, которая принимает на вход одну строку и проверяет, является ли она панграммой\n",
    "на русском языке.\n",
    "\n",
    "Важные детали\n",
    "- Функция должна возвращать True или False\n",
    "- Функции могут содержать строчные и заглавные буквы. Все строку можно буквы можно превратить в строчные при помощи метода .lower()\n",
    "- Используйте операции сравнения, чтобы проверить, входит ли буква в диапазон букв русского алфавита: `c >= 'а' and с <= 'я'`\n"
   ]
  },
  {
   "cell_type": "code",
   "execution_count": 41,
   "id": "08b922e1",
   "metadata": {
    "colab": {
     "base_uri": "https://localhost:8080/"
    },
    "executionInfo": {
     "elapsed": 18,
     "status": "ok",
     "timestamp": 1745909357098,
     "user": {
      "displayName": "productstar homework",
      "userId": "17463514396133947951"
     },
     "user_tz": -180
    },
    "id": "08b922e1",
    "outputId": "af84e51a-fe9a-42ea-afff-b624696d4551"
   },
   "outputs": [],
   "source": [
    "# Напишите свой код здесь. Можете разделить его на две части, чтобы видеть промежуточные результаы\n",
    "def is_pangram(text):\n",
    "    \"\"\"\n",
    "    Проверяет, является ли строка панграммой на русском языке.\n",
    "\n",
    "    Args:\n",
    "        text: Строка для проверки.\n",
    "\n",
    "    Returns:\n",
    "        True, если строка является панграммой, False в противном случае.\n",
    "    \"\"\"\n",
    "\n",
    "    alph = set()  # Множество для хранения уникальных букв русского алфавита\n",
    "    text = text.lower()  \n",
    "\n",
    "    for char in text:\n",
    "        if 'а' <= char <= 'я':  # Проверяем, является ли символ буквой русского алфавита\n",
    "            alph.add(char)\n",
    "\n",
    "    return len(alph) == 33  # Сравниваем количество уникальных букв с длиной русского алфавита"
   ]
  },
  {
   "cell_type": "markdown",
   "id": "72f9d663",
   "metadata": {
    "id": "72f9d663"
   },
   "source": [
    "## Проверьте себя\n",
    "\n",
    "Ячейка ниже содержит тесты, при помощи которых можно проверить корретность решения. Просто выполните ячейку и она распечатает результат."
   ]
  },
  {
   "cell_type": "code",
   "execution_count": 42,
   "id": "9f7cd780",
   "metadata": {
    "colab": {
     "base_uri": "https://localhost:8080/"
    },
    "executionInfo": {
     "elapsed": 29,
     "status": "ok",
     "timestamp": 1745909360777,
     "user": {
      "displayName": "productstar homework",
      "userId": "17463514396133947951"
     },
     "user_tz": -180
    },
    "id": "9f7cd780",
    "outputId": "51671888-f783-4f2a-e707-b0dda6dde954"
   },
   "outputs": [
    {
     "name": "stdout",
     "output_type": "stream",
     "text": [
      "Проверьте свою функцию на строке \"Съешь же ещё этих мягких французских булок да выпей чаю\"\n",
      "Проверьте свою функцию на строке \"Широкая электрификация южных губерний даст мощный толчок подъёму сельского хозяйства\"\n",
      "\n",
      "Количество правильно решённых тестов: 3 из 5\n"
     ]
    }
   ],
   "source": [
    "def test_task_2():\n",
    "    tests = (\n",
    "        ('Съешь же ещё этих мягких французских булок да выпей чаю', True),\n",
    "        ('Широкая электрификация южных губерний даст мощный толчок подъёму сельского хозяйства', True),\n",
    "        ('В чащах юга жил бы цитрус? Да, но фальшивый экземпляр!', False),\n",
    "        ('А роза упала на лапу Азора', False),\n",
    "        ('Мои папа и мама! Я живу хорошо. Просто замечательно. У меня есть свой дом', False),\n",
    "    )\n",
    "    num_correct = 0\n",
    "    for test, correct_answer in tests:\n",
    "        result = is_pangram(test)\n",
    "        if result != correct_answer:\n",
    "            print(f'Проверьте свою функцию на строке \"{test}\"')\n",
    "            continue\n",
    "        num_correct += 1\n",
    "    print()\n",
    "    print(f'Количество правильно решённых тестов: {num_correct} из {len(tests)}')\n",
    "    if num_correct == len(tests):\n",
    "        print('Отличный результат!')\n",
    "\n",
    "test_task_2()"
   ]
  },
  {
   "cell_type": "code",
   "execution_count": null,
   "id": "47be1bd9-673e-44ca-9678-1e6ac00aa8ec",
   "metadata": {},
   "outputs": [],
   "source": []
  }
 ],
 "metadata": {
  "colab": {
   "provenance": []
  },
  "kernelspec": {
   "display_name": "Python 3 (ipykernel)",
   "language": "python",
   "name": "python3"
  },
  "language_info": {
   "codemirror_mode": {
    "name": "ipython",
    "version": 3
   },
   "file_extension": ".py",
   "mimetype": "text/x-python",
   "name": "python",
   "nbconvert_exporter": "python",
   "pygments_lexer": "ipython3",
   "version": "3.13.3"
  }
 },
 "nbformat": 4,
 "nbformat_minor": 5
}
