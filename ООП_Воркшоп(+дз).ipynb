{
  "nbformat": 4,
  "nbformat_minor": 0,
  "metadata": {
    "colab": {
      "provenance": [],
      "include_colab_link": true
    },
    "kernelspec": {
      "name": "python3",
      "display_name": "Python 3"
    },
    "language_info": {
      "name": "python"
    }
  },
  "cells": [
    {
      "cell_type": "markdown",
      "metadata": {
        "id": "view-in-github",
        "colab_type": "text"
      },
      "source": [
        "<a href=\"https://colab.research.google.com/github/MaryKa858/-1-/blob/main/%D0%9E%D0%9E%D0%9F_%D0%92%D0%BE%D1%80%D0%BA%D1%88%D0%BE%D0%BF(%2B%D0%B4%D0%B7).ipynb\" target=\"_parent\"><img src=\"https://colab.research.google.com/assets/colab-badge.svg\" alt=\"Open In Colab\"/></a>"
      ]
    },
    {
      "cell_type": "markdown",
      "source": [
        "# Воркшоп"
      ],
      "metadata": {
        "id": "mpPRm29ScFhh"
      }
    },
    {
      "cell_type": "code",
      "source": [
        "class User:\n",
        "    name = ''\n",
        "    email = ''\n",
        "    approved_by = ''\n",
        "\n",
        "    def __init__(self, name, email):\n",
        "        self.name = name\n",
        "        self.email = email\n",
        "\n",
        "    def show(self):\n",
        "        print('Name: ', self.name)\n",
        "        print('Email: ', self.email)\n",
        "        print('Approved by: ', self.approved_by)\n",
        "\n",
        "\n",
        "class AdminUser(User):\n",
        "    def __init__(self, name, email):\n",
        "        # super возвращает все поля и методы класса-родителя, от которого мы наследуем новый класс\n",
        "        super().__init__(name, email)\n",
        "        self.approved_by = 'admin'\n",
        "\n",
        "    def approve(self, user:User):\n",
        "        user.approved_by = self.name\n",
        "\n",
        "class RegularUser(User):\n",
        "    def __init__(self, name, email):\n",
        "\n",
        "        super().__init__(name, email)\n",
        "        self.approved_by = 'admin'\n",
        "\n",
        "    def approve(self, user:AdminUser):\n",
        "        user.approved_by = self.name"
      ],
      "metadata": {
        "id": "dy6D5DQicHei"
      },
      "execution_count": 76,
      "outputs": []
    },
    {
      "cell_type": "code",
      "source": [
        "user = User('aleks', 'mail@alex.com')\n",
        "admin = AdminUser('ivan', 'mail@ivan.com')"
      ],
      "metadata": {
        "id": "CfmOfeGdcJM4"
      },
      "execution_count": 58,
      "outputs": []
    },
    {
      "cell_type": "code",
      "source": [
        "admin.approve(user)"
      ],
      "metadata": {
        "id": "_Iw1CeYGcKxc"
      },
      "execution_count": 77,
      "outputs": []
    },
    {
      "cell_type": "code",
      "source": [
        "user.show()"
      ],
      "metadata": {
        "id": "VfozuQtvcKzy",
        "outputId": "2713f23c-2cfe-48ba-ce9d-c5759e820ce1",
        "colab": {
          "base_uri": "https://localhost:8080/"
        }
      },
      "execution_count": 78,
      "outputs": [
        {
          "output_type": "stream",
          "name": "stdout",
          "text": [
            "Name:  aleks\n",
            "Email:  mail@alex.com\n",
            "Approved by:  ivan\n"
          ]
        }
      ]
    },
    {
      "cell_type": "code",
      "source": [
        "admin.show()"
      ],
      "metadata": {
        "id": "YHW5IR3wcND4",
        "outputId": "b6ffeb40-8b00-4797-b87f-9eb510d91d6d",
        "colab": {
          "base_uri": "https://localhost:8080/"
        }
      },
      "execution_count": 79,
      "outputs": [
        {
          "output_type": "stream",
          "name": "stdout",
          "text": [
            "Name:  ivan\n",
            "Email:  mail@ivan.com\n",
            "Approved by:  petr\n"
          ]
        }
      ]
    },
    {
      "cell_type": "code",
      "source": [
        "admin.show()"
      ],
      "metadata": {
        "id": "jfQhfCcVcQAm",
        "outputId": "792a448d-6db0-4cdc-b60b-2f3592c082d3",
        "colab": {
          "base_uri": "https://localhost:8080/"
        }
      },
      "execution_count": 80,
      "outputs": [
        {
          "output_type": "stream",
          "name": "stdout",
          "text": [
            "Name:  ivan\n",
            "Email:  mail@ivan.com\n",
            "Approved by:  petr\n"
          ]
        }
      ]
    },
    {
      "cell_type": "code",
      "source": [
        "admin2 = AdminUser('petr', 'mail@petr.com')\n",
        "admin2.approve(admin)"
      ],
      "metadata": {
        "id": "hSu2zD52cNGW"
      },
      "execution_count": 81,
      "outputs": []
    },
    {
      "cell_type": "code",
      "source": [
        "reg_user = RegularUser('Nick', 'reg@nick.com')\n",
        "reg_user.show()"
      ],
      "metadata": {
        "id": "VXpNqveV9bhP",
        "outputId": "1b4a1a9d-50f9-4659-8ef7-d7d5acb99dd3",
        "colab": {
          "base_uri": "https://localhost:8080/"
        }
      },
      "execution_count": 82,
      "outputs": [
        {
          "output_type": "stream",
          "name": "stdout",
          "text": [
            "Name:  Nick\n",
            "Email:  reg@nick.com\n",
            "Approved by:  admin\n"
          ]
        }
      ]
    },
    {
      "cell_type": "code",
      "source": [
        "reg_user.approve(admin2)\n",
        "reg_user.show()"
      ],
      "metadata": {
        "id": "PUuUxtKn99f3",
        "outputId": "3739a4b0-fe5c-49a8-b06b-91d4d9df1bb7",
        "colab": {
          "base_uri": "https://localhost:8080/"
        }
      },
      "execution_count": 83,
      "outputs": [
        {
          "output_type": "stream",
          "name": "stdout",
          "text": [
            "Name:  Nick\n",
            "Email:  reg@nick.com\n",
            "Approved by:  admin\n"
          ]
        }
      ]
    }
  ]
}