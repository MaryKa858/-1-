{
  "nbformat": 4,
  "nbformat_minor": 0,
  "metadata": {
    "colab": {
      "provenance": []
    },
    "kernelspec": {
      "name": "python3",
      "display_name": "Python 3"
    },
    "language_info": {
      "name": "python"
    }
  },
  "cells": [
    {
      "cell_type": "code",
      "execution_count": 28,
      "metadata": {
        "colab": {
          "base_uri": "https://localhost:8080/"
        },
        "id": "6JIhyc_UroUK",
        "outputId": "59232cd1-4b39-4ba7-8037-cdd6ab24a522"
      },
      "outputs": [
        {
          "output_type": "stream",
          "name": "stdout",
          "text": [
            "Введите предложение: я ем кофе, я пью чай и я геркулес \n",
            "Количество слов в тексте:  7\n",
            "я\n"
          ]
        }
      ],
      "source": [
        "text = input('Введите предложение: ')\n",
        "text = text.lower()\n",
        "сounts = dict() # создаю пустой словарь\n",
        "words = text.split() # разбиваю введенную фразу на слова\n",
        "for word in words: # создаю цикл, в котором подсчитываю частоту использования слова. Встречающееся слово вношу в словарь, если оно повторяется, то увеличиваю его значение на 1\n",
        "  if word in сounts:\n",
        "    сounts[word] += 1\n",
        "  else:\n",
        "    сounts[word] = 1\n",
        "count = len(сounts)\n",
        "print('Количество слов в тексте: ',count)\n",
        "mostpop =  max(сounts) # поиск самого частовстречающееся по частоте\n",
        "print(mostpop)"
      ]
    },
    {
      "cell_type": "markdown",
      "source": [
        "Вариант с платформы"
      ],
      "metadata": {
        "id": "rw3x5k042Soc"
      }
    },
    {
      "cell_type": "code",
      "source": [
        "sentence = input(\"Enter a sentence: \")\n",
        "\n",
        "word_count = {}\n",
        "for word in sentence.split():\n",
        "    if word in word_count:\n",
        "        word_count[word] += 1\n",
        "    else:\n",
        "        word_count[word] = 1\n",
        "\n",
        "num_unique_words = len(word_count)\n",
        "\n",
        "most_frequent_word = \"\"\n",
        "max_count = 0\n",
        "for word, count in word_count.items():\n",
        "    if count > max_count:\n",
        "        most_frequent_word = word\n",
        "        max_count = count\n",
        "\n",
        "print(\"The sentence contains\", num_unique_words, \"unique words.\")\n",
        "print(\"The most frequent word is:\", most_frequent_word)"
      ],
      "metadata": {
        "colab": {
          "base_uri": "https://localhost:8080/"
        },
        "id": "csmO7Mxnu3cG",
        "outputId": "cb52937e-7516-4629-9e17-82930f97fd10"
      },
      "execution_count": 19,
      "outputs": [
        {
          "output_type": "stream",
          "name": "stdout",
          "text": [
            "Enter a sentence: Я яяя ем енота я ем кота\n",
            "The sentence contains 6 unique words.\n",
            "The most frequent word is: ем\n"
          ]
        }
      ]
    }
  ]
}