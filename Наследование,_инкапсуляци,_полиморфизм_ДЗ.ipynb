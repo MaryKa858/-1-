{
  "nbformat": 4,
  "nbformat_minor": 0,
  "metadata": {
    "colab": {
      "provenance": [],
      "authorship_tag": "ABX9TyOJ4DgcRaJoFlMwUlVc6DSA",
      "include_colab_link": true
    },
    "kernelspec": {
      "name": "python3",
      "display_name": "Python 3"
    },
    "language_info": {
      "name": "python"
    }
  },
  "cells": [
    {
      "cell_type": "markdown",
      "metadata": {
        "id": "view-in-github",
        "colab_type": "text"
      },
      "source": [
        "<a href=\"https://colab.research.google.com/github/MaryKa858/-1-/blob/main/%D0%9D%D0%B0%D1%81%D0%BB%D0%B5%D0%B4%D0%BE%D0%B2%D0%B0%D0%BD%D0%B8%D0%B5%2C_%D0%B8%D0%BD%D0%BA%D0%B0%D0%BF%D1%81%D1%83%D0%BB%D1%8F%D1%86%D0%B8%2C_%D0%BF%D0%BE%D0%BB%D0%B8%D0%BC%D0%BE%D1%80%D1%84%D0%B8%D0%B7%D0%BC_%D0%94%D0%97.ipynb\" target=\"_parent\"><img src=\"https://colab.research.google.com/assets/colab-badge.svg\" alt=\"Open In Colab\"/></a>"
      ]
    },
    {
      "cell_type": "code",
      "execution_count": 18,
      "metadata": {
        "colab": {
          "base_uri": "https://localhost:8080/"
        },
        "id": "VGFsfBCabkrO",
        "outputId": "7b28d7d0-c68e-472e-b1b9-6e40cb5e7246"
      },
      "outputs": [
        {
          "output_type": "stream",
          "name": "stdout",
          "text": [
            "Pet's information: name:Гера, age:2, species: щенок, gender:м\n",
            "Гав!\n",
            "Pet's information: name:Дюна, age:2, species: котенок, gender:ж\n",
            "Мяу!\n"
          ]
        }
      ],
      "source": [
        "class Pet:\n",
        "    def __init__(self, name, species, age, gender):\n",
        "        self._name = name\n",
        "        self._species = species\n",
        "        self._age = age\n",
        "        self._gender = gender\n",
        "\n",
        "    def get_info(self):\n",
        "        print(f\"Pet's information: name:{self._name}, age:{self._age}, species: {self._species}, gender:{self._gender}\")\n",
        "\n",
        "\n",
        "class Dog(Pet):\n",
        "    def __init__(self, name, species, age, gender, breed):\n",
        "        super().__init__(name, species, age, gender)\n",
        "        self._breed = breed\n",
        "\n",
        "    def bark(self):\n",
        "        print('Гав!')\n",
        "\n",
        "\n",
        "class Cat(Pet):\n",
        "    def __init__(self, name, species, age, gender, colour):\n",
        "        super().__init__(name, species, age, gender)\n",
        "        self._colour = colour\n",
        "\n",
        "    def meow (self):\n",
        "        print('Мяу!')\n",
        "\n",
        "\n",
        "dog = Dog('Гера', 'щенок', 2, 'м', 'Королевский корги')\n",
        "cat = Cat('Дюна', 'котенок', 2, 'ж', 'серый')\n",
        "\n",
        "dog.get_info()\n",
        "dog.bark()\n",
        "\n",
        "cat.get_info()\n",
        "cat.meow()"
      ]
    }
  ]
}